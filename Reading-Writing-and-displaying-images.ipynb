{
 "cells": [
  {
   "cell_type": "code",
   "execution_count": 1,
   "metadata": {},
   "outputs": [],
   "source": [
    "import cv2\n",
    "import numpy as np"
   ]
  },
  {
   "cell_type": "code",
   "execution_count": 2,
   "metadata": {},
   "outputs": [],
   "source": [
    "input = cv2.imread('/home/rohit/Pictures/wp5736153.png')"
   ]
  },
  {
   "cell_type": "code",
   "execution_count": 3,
   "metadata": {},
   "outputs": [
    {
     "data": {
      "text/plain": [
       "array([[[ 79, 150, 239],\n",
       "        [ 79, 150, 239],\n",
       "        [ 79, 150, 239],\n",
       "        ...,\n",
       "        [ 79, 150, 239],\n",
       "        [ 79, 150, 239],\n",
       "        [ 79, 150, 239]],\n",
       "\n",
       "       [[ 79, 150, 239],\n",
       "        [ 79, 150, 239],\n",
       "        [ 79, 150, 239],\n",
       "        ...,\n",
       "        [ 79, 150, 239],\n",
       "        [ 79, 150, 239],\n",
       "        [ 79, 150, 239]],\n",
       "\n",
       "       [[ 79, 150, 239],\n",
       "        [ 79, 150, 239],\n",
       "        [ 79, 150, 239],\n",
       "        ...,\n",
       "        [ 79, 150, 239],\n",
       "        [ 79, 150, 239],\n",
       "        [ 79, 150, 239]],\n",
       "\n",
       "       ...,\n",
       "\n",
       "       [[ 79, 150, 239],\n",
       "        [ 79, 150, 239],\n",
       "        [ 79, 150, 239],\n",
       "        ...,\n",
       "        [ 79, 150, 239],\n",
       "        [ 79, 150, 239],\n",
       "        [ 79, 150, 239]],\n",
       "\n",
       "       [[ 79, 150, 239],\n",
       "        [ 79, 150, 239],\n",
       "        [ 79, 150, 239],\n",
       "        ...,\n",
       "        [ 79, 150, 239],\n",
       "        [ 79, 150, 239],\n",
       "        [ 79, 150, 239]],\n",
       "\n",
       "       [[ 79, 150, 239],\n",
       "        [ 79, 150, 239],\n",
       "        [ 79, 150, 239],\n",
       "        ...,\n",
       "        [ 79, 150, 239],\n",
       "        [ 79, 150, 239],\n",
       "        [ 79, 150, 239]]], dtype=uint8)"
      ]
     },
     "execution_count": 3,
     "metadata": {},
     "output_type": "execute_result"
    }
   ],
   "source": [
    "input"
   ]
  },
  {
   "cell_type": "code",
   "execution_count": 4,
   "metadata": {},
   "outputs": [],
   "source": [
    "cv2.imshow('Haikyuu!', input)\n",
    "cv2.waitKey()\n",
    "cv2.destroyAllWindows()"
   ]
  },
  {
   "cell_type": "code",
   "execution_count": 5,
   "metadata": {},
   "outputs": [
    {
     "data": {
      "text/plain": [
       "(2160, 3840, 3)"
      ]
     },
     "execution_count": 5,
     "metadata": {},
     "output_type": "execute_result"
    }
   ],
   "source": [
    "input.shape"
   ]
  },
  {
   "cell_type": "code",
   "execution_count": 8,
   "metadata": {},
   "outputs": [
    {
     "data": {
      "text/plain": [
       "True"
      ]
     },
     "execution_count": 8,
     "metadata": {},
     "output_type": "execute_result"
    }
   ],
   "source": [
    "cv2.imwrite('haikyuu!.png', input)\n",
    "cv2.imwrite('haikyuu!.jpg', input)"
   ]
  },
  {
   "cell_type": "code",
   "execution_count": null,
   "metadata": {},
   "outputs": [],
   "source": []
  }
 ],
 "metadata": {
  "kernelspec": {
   "display_name": "Python 3",
   "language": "python",
   "name": "python3"
  },
  "language_info": {
   "codemirror_mode": {
    "name": "ipython",
    "version": 3
   },
   "file_extension": ".py",
   "mimetype": "text/x-python",
   "name": "python",
   "nbconvert_exporter": "python",
   "pygments_lexer": "ipython3",
   "version": "3.8.5"
  }
 },
 "nbformat": 4,
 "nbformat_minor": 4
}
